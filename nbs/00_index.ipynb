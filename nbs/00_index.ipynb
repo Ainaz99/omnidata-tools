{
 "cells": [
  {
   "cell_type": "markdown",
   "metadata": {},
   "source": [
    "# Omnidata Docs\n"
   ]
  },
  {
   "cell_type": "markdown",
   "metadata": {},
   "source": [
    "\n",
    "**This site is intended to be a wiki/documentation site for everything that we open-sourced from the paper.** (Check out the main site for an overview of 'steerable datastes' and the 3D → 2D rendering pipeline). This website is the next step for getting started with the annotator, downloading the starter datset, releasing your own dataset, or using some of the pretrained models from the paper. This site contains usage examples, demos and documentation. The pages also contain links to source code :)\n",
    "\n",
    "<br>\n",
    "\n",
    "**Quick links to docs**: [ [Pretrained Models](/omnidata-tools/pretrained.html) ]  [ [Starter Dataset](/omnidata-tools/starter_dataset.html) ]  [ [Annotator Demo](/omnidata-tools/annotator_usage.html) ] \n",
    "\n",
    "See the navigation bar on the left for the full documentation. Ideally, this site is supposed to be about half-code and half-wiki.\n",
    "\n",
    "<br>\n",
    "\n",
    "> ...were you looking for the [research paper](//omnidata.vision/#paper) or [project website](//omnidata.vision)? "
   ]
  },
  {
   "cell_type": "markdown",
   "metadata": {},
   "source": [
    "<!-- <img src=\"https://raw.githubusercontent.com/alexsax/omnidata-tools/main/docs/images/omnidata_front_page.jpg?token=ABHLE3LC3U64F2QRVSOBSS3BPED24\" alt=\"Website main page\" style='max-width: 100%;'/> -->"
   ]
  },
  {
   "cell_type": "markdown",
   "metadata": {},
   "source": []
  },
  {
   "cell_type": "code",
   "execution_count": null,
   "metadata": {},
   "outputs": [],
   "source": []
  }
 ],
 "metadata": {
  "kernelspec": {
   "display_name": "Python 3",
   "language": "python",
   "name": "python3"
  }
 },
 "nbformat": 4,
 "nbformat_minor": 2
}
