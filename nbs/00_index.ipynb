{
 "cells": [
  {
   "cell_type": "markdown",
   "metadata": {},
   "source": [
    "# Omnidata Documentation\n",
    "\n",
    "To find statistics about the starter dataset, please see the starter dataset repo here: "
   ]
  },
  {
   "cell_type": "markdown",
   "metadata": {},
   "source": [
    "> Looking for the [research paper](//omnidata.vision/#paper) or the [main website](//omnidata.vision)? \n",
    "\n",
    "This is intended to be a wiki/documentation site for everything that we open-sourced from the paper. (Check out the main site for an overview of 'steerable datastes' and the 3D -> 2D rendering pipeline). This website is the next step for getting started with the annotator, downloading the starter datset, releasing your own dataset, or using some of the pretrained models from the paper. This site contains usage examples, demos and documentation. The pages should contain links to source code :)\n",
    "\n",
    "Ideally, this site is supposed to be about half-code and half-wiki."
   ]
  },
  {
   "cell_type": "markdown",
   "metadata": {},
   "source": []
  },
  {
   "cell_type": "markdown",
   "metadata": {},
   "source": []
  },
  {
   "cell_type": "code",
   "execution_count": null,
   "metadata": {},
   "outputs": [],
   "source": []
  }
 ],
 "metadata": {
  "kernelspec": {
   "display_name": "Python 3",
   "language": "python",
   "name": "python3"
  }
 },
 "nbformat": 4,
 "nbformat_minor": 2
}
