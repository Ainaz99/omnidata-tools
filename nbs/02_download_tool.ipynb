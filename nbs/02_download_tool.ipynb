{
 "cells": [
  {
   "cell_type": "markdown",
   "metadata": {},
   "source": [
    "# Download Tool \n",
    "\n",
    "To find statistics about the starter dataset, please see the starter dataset repo here: "
   ]
  },
  {
   "cell_type": "markdown",
   "metadata": {},
   "source": [
    "The download tool is designed to be fast and easy to use (it's built off of [aria2](https://aria2.github.io/)). We regularly get 70MB/s downloading from the EPFL servers to Berkeley. It's written pretty generally, too, so the tool can also be used to download other datasets stored in a similar format (i.e. other datasets formatted similarly to annotator outputs, like [Taskonomy](//taskonomy.stanford.edu)).\n",
    "<br>**_Note:_** There's also an inverse **`omnitools.upload`** for uploading an annotator-generated dataset to a server."
   ]
  },
  {
   "cell_type": "markdown",
   "metadata": {},
   "source": []
  },
  {
   "cell_type": "markdown",
   "metadata": {},
   "source": [
    "<img src=\"https://alexsax.github.io/omnidata-tools/images/starter_dataset.png\" alt=\"Starter dataset components and domains\" style='max-width: 100%;'/>\n"
   ]
  },
  {
   "cell_type": "code",
   "execution_count": null,
   "metadata": {},
   "outputs": [],
   "source": []
  }
 ],
 "metadata": {
  "kernelspec": {
   "display_name": "Python 3",
   "language": "python",
   "name": "python3"
  }
 },
 "nbformat": 4,
 "nbformat_minor": 2
}
