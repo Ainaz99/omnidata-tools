{
 "cells": [
  {
   "cell_type": "markdown",
   "metadata": {},
   "source": [
    "# Using the Annotator\n",
    "\n",
    "> Parametrically resample 3D scans into vision datasets"
   ]
  },
  {
   "cell_type": "markdown",
   "metadata": {},
   "source": [
    "The Omnidata annotater is a tool to parametrically resample 3D scans and output a vision dataset. \n",
    "\n",
    "The annotator exposes a simple command-line interface (CLI). To simplify actually using it in practice, we provide a convenient Dockerized implementation. The [source code](https://github.com/EPFL-VILAB/omnidata-annotator) is available on github.\n"
   ]
  },
  {
   "cell_type": "markdown",
   "metadata": {},
   "source": [
    "## Docker installation"
   ]
  },
  {
   "cell_type": "markdown",
   "metadata": {},
   "source": [
    "## Demo"
   ]
  }
 ],
 "metadata": {
  "kernelspec": {
   "display_name": "Python 3",
   "language": "python",
   "name": "python3"
  }
 },
 "nbformat": 4,
 "nbformat_minor": 2
}
