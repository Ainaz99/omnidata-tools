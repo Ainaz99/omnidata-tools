{
 "cells": [
  {
   "cell_type": "markdown",
   "metadata": {},
   "source": [
    "# Using the Annotator\n",
    "\n",
    "> Parametrically resample 3D scans into vision datasets."
   ]
  },
  {
   "cell_type": "markdown",
   "metadata": {},
   "source": [
    "The Omnidata annotater is a tool to parametrically resample 3D scans and output a vision dataset. \n",
    "\n",
    "<video width=\"100%\" height=\"464\" playsinline=\"\" autoplay=\"\" center=\"\" loop=\"\" muted=\"\" class=\"video-bg\" id=\"video-bg\" poster=\"./loading.gif\">\n",
    "<source src=\"https://omnidata.vision/assets/videos/input_output.mp4\" type=\"video/mp4\" alt=\"HTML5 background video\">\n",
    "</video>\n",
    "\n",
    "The annotator exposes a simple command-line interface (CLI). To simplify actually using it in practice, we provide a convenient [Dockerized implementation](https://github.com/EPFL-VILAB/omnidata-annotator#installation). The [source code](https://github.com/EPFL-VILAB/omnidata-annotator) is available on github.\n",
    "\n",
    "\n",
    "## Demo\n",
    "\n",
    "To run an example (generating a dataset from a single building in the Habitat-Matterport 3D dataset), check out the [demo in the main annotator repository](https://github.com/EPFL-VILAB/omnidata-annotator#quickstart-run-demo). \n"
   ]
  },
  {
   "cell_type": "markdown",
   "metadata": {},
   "source": [
    "### Handling annotator outputs\n",
    "\n",
    "#### Using the data for training vision models\n",
    "Pytorch dataloaders. [Link](/omnidata-annotator/dataloaders.html)\n",
    "\n",
    "### Distributing the data\n",
    "\n",
    "#### Uploading data to a server\n",
    "Compressing & uploading the data with `omnitools.upload`\n",
    "\n",
    "#### Downloading data from a server\n",
    "Downloading, validating, and decompressing with `omnitools.download`\n",
    "\n"
   ]
  },
  {
   "cell_type": "markdown",
   "metadata": {},
   "source": [
    "## More documentation\n",
    "More documentation is [available here](/omnidata-tools/annotator_documentation.html)"
   ]
  },
  {
   "cell_type": "markdown",
   "metadata": {},
   "source": []
  }
 ],
 "metadata": {
  "kernelspec": {
   "display_name": "Python 3",
   "language": "python",
   "name": "python3"
  }
 },
 "nbformat": 4,
 "nbformat_minor": 2
}
