{
 "cells": [
  {
   "cell_type": "markdown",
   "metadata": {},
   "source": [
    "# Pretrained Models \n",
    "\n",
    "Short explanation of models: to demonstrate that data is capable of training strong models and not too much limited by rendering, mesh coarseness, etc, we train some models for different tasks. At the time of publishing, the models were comparable or better than sota (link oasis) for common multiple vision tasks.\n",
    "\n",
    "We provide several of these models here: (maybe add one for curvature or sth?).\n",
    "\n",
    "[ Images of results ]\n",
    "\n"
   ]
  },
  {
   "cell_type": "markdown",
   "metadata": {},
   "source": [
    "## Demo"
   ]
  },
  {
   "cell_type": "markdown",
   "metadata": {},
   "source": [
    "## Included models"
   ]
  }
 ],
 "metadata": {
  "kernelspec": {
   "display_name": "Python 3",
   "language": "python",
   "name": "python3"
  }
 },
 "nbformat": 4,
 "nbformat_minor": 2
}
